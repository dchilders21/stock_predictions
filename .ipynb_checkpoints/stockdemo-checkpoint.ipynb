{
 "cells": [
  {
   "cell_type": "code",
   "execution_count": 2,
   "metadata": {
    "collapsed": false,
    "deletable": true,
    "editable": true
   },
   "outputs": [
    {
     "name": "stderr",
     "output_type": "stream",
     "text": [
      "Using TensorFlow backend.\n"
     ]
    }
   ],
   "source": [
    "from keras.layers.core import Dense, Activation, Dropout\n",
    "from keras.layers.recurrent import LSTM\n",
    "from keras.models import Sequential\n",
    "import lstm, time #helper libraries"
   ]
  },
  {
   "cell_type": "code",
   "execution_count": 4,
   "metadata": {
    "collapsed": false,
    "deletable": true,
    "editable": true
   },
   "outputs": [
    {
     "ename": "ValueError",
     "evalue": "could not convert string to float: GPRO,2017-02-01,06:30:00,10.77,10.78,10.77,10.78,52245",
     "output_type": "error",
     "traceback": [
      "\u001b[0;31m---------------------------------------------------------------------------\u001b[0m",
      "\u001b[0;31mValueError\u001b[0m                                Traceback (most recent call last)",
      "\u001b[0;32m<ipython-input-4-118617bc1a34>\u001b[0m in \u001b[0;36m<module>\u001b[0;34m()\u001b[0m\n\u001b[1;32m      1\u001b[0m \u001b[0;31m#Step 1 Load Data\u001b[0m\u001b[0;34m\u001b[0m\u001b[0;34m\u001b[0m\u001b[0m\n\u001b[0;32m----> 2\u001b[0;31m \u001b[0mX_train\u001b[0m\u001b[0;34m,\u001b[0m \u001b[0my_train\u001b[0m\u001b[0;34m,\u001b[0m \u001b[0mX_test\u001b[0m\u001b[0;34m,\u001b[0m \u001b[0my_test\u001b[0m \u001b[0;34m=\u001b[0m \u001b[0mlstm\u001b[0m\u001b[0;34m.\u001b[0m\u001b[0mload_data\u001b[0m\u001b[0;34m(\u001b[0m\u001b[0;34m'csv/03_15_17/gpro_08_44_41.csv'\u001b[0m\u001b[0;34m,\u001b[0m \u001b[0;36m50\u001b[0m\u001b[0;34m,\u001b[0m \u001b[0mTrue\u001b[0m\u001b[0;34m)\u001b[0m\u001b[0;34m\u001b[0m\u001b[0m\n\u001b[0m",
      "\u001b[0;32m/Users/chnkyfire/Projects/Stock_Predictions/stock_predictions/lstm.pyc\u001b[0m in \u001b[0;36mload_data\u001b[0;34m(filename, seq_len, normalise_window)\u001b[0m\n\u001b[1;32m     32\u001b[0m \u001b[0;34m\u001b[0m\u001b[0m\n\u001b[1;32m     33\u001b[0m     \u001b[0;32mif\u001b[0m \u001b[0mnormalise_window\u001b[0m\u001b[0;34m:\u001b[0m\u001b[0;34m\u001b[0m\u001b[0m\n\u001b[0;32m---> 34\u001b[0;31m         \u001b[0mresult\u001b[0m \u001b[0;34m=\u001b[0m \u001b[0mnormalise_windows\u001b[0m\u001b[0;34m(\u001b[0m\u001b[0mresult\u001b[0m\u001b[0;34m)\u001b[0m\u001b[0;34m\u001b[0m\u001b[0m\n\u001b[0m\u001b[1;32m     35\u001b[0m \u001b[0;34m\u001b[0m\u001b[0m\n\u001b[1;32m     36\u001b[0m     \u001b[0mresult\u001b[0m \u001b[0;34m=\u001b[0m \u001b[0mnp\u001b[0m\u001b[0;34m.\u001b[0m\u001b[0marray\u001b[0m\u001b[0;34m(\u001b[0m\u001b[0mresult\u001b[0m\u001b[0;34m)\u001b[0m\u001b[0;34m\u001b[0m\u001b[0m\n",
      "\u001b[0;32m/Users/chnkyfire/Projects/Stock_Predictions/stock_predictions/lstm.pyc\u001b[0m in \u001b[0;36mnormalise_windows\u001b[0;34m(window_data)\u001b[0m\n\u001b[1;32m     52\u001b[0m     \u001b[0mnormalised_data\u001b[0m \u001b[0;34m=\u001b[0m \u001b[0;34m[\u001b[0m\u001b[0;34m]\u001b[0m\u001b[0;34m\u001b[0m\u001b[0m\n\u001b[1;32m     53\u001b[0m     \u001b[0;32mfor\u001b[0m \u001b[0mwindow\u001b[0m \u001b[0;32min\u001b[0m \u001b[0mwindow_data\u001b[0m\u001b[0;34m:\u001b[0m\u001b[0;34m\u001b[0m\u001b[0m\n\u001b[0;32m---> 54\u001b[0;31m         \u001b[0mnormalised_window\u001b[0m \u001b[0;34m=\u001b[0m \u001b[0;34m[\u001b[0m\u001b[0;34m(\u001b[0m\u001b[0;34m(\u001b[0m\u001b[0mfloat\u001b[0m\u001b[0;34m(\u001b[0m\u001b[0mp\u001b[0m\u001b[0;34m)\u001b[0m \u001b[0;34m/\u001b[0m \u001b[0mfloat\u001b[0m\u001b[0;34m(\u001b[0m\u001b[0mwindow\u001b[0m\u001b[0;34m[\u001b[0m\u001b[0;36m0\u001b[0m\u001b[0;34m]\u001b[0m\u001b[0;34m)\u001b[0m\u001b[0;34m)\u001b[0m \u001b[0;34m-\u001b[0m \u001b[0;36m1\u001b[0m\u001b[0;34m)\u001b[0m \u001b[0;32mfor\u001b[0m \u001b[0mp\u001b[0m \u001b[0;32min\u001b[0m \u001b[0mwindow\u001b[0m\u001b[0;34m]\u001b[0m\u001b[0;34m\u001b[0m\u001b[0m\n\u001b[0m\u001b[1;32m     55\u001b[0m         \u001b[0mnormalised_data\u001b[0m\u001b[0;34m.\u001b[0m\u001b[0mappend\u001b[0m\u001b[0;34m(\u001b[0m\u001b[0mnormalised_window\u001b[0m\u001b[0;34m)\u001b[0m\u001b[0;34m\u001b[0m\u001b[0m\n\u001b[1;32m     56\u001b[0m     \u001b[0;32mreturn\u001b[0m \u001b[0mnormalised_data\u001b[0m\u001b[0;34m\u001b[0m\u001b[0m\n",
      "\u001b[0;31mValueError\u001b[0m: could not convert string to float: GPRO,2017-02-01,06:30:00,10.77,10.78,10.77,10.78,52245"
     ]
    }
   ],
   "source": [
    "#Step 1 Load Data\n",
    "# X_train, y_train, X_test, y_test = lstm.load_data('csv/03_15_17/gpro_08_44_41.csv', 50, True)\n",
    "X_train, y_train, X_test, y_test = lstm.load_data('google.csv', 50, True)"
   ]
  },
  {
   "cell_type": "code",
   "execution_count": 3,
   "metadata": {
    "collapsed": false,
    "deletable": true,
    "editable": true
   },
   "outputs": [
    {
     "ename": "TypeError",
     "evalue": "('Keyword argument not understood:', 'input_dim')",
     "output_type": "error",
     "traceback": [
      "\u001b[0;31m---------------------------------------------------------------------------\u001b[0m",
      "\u001b[0;31mTypeError\u001b[0m                                 Traceback (most recent call last)",
      "\u001b[0;32m<ipython-input-3-11d126c566aa>\u001b[0m in \u001b[0;36m<module>\u001b[0;34m()\u001b[0m\n\u001b[1;32m      5\u001b[0m     \u001b[0minput_dim\u001b[0m\u001b[0;34m=\u001b[0m\u001b[0;36m1\u001b[0m\u001b[0;34m,\u001b[0m\u001b[0;34m\u001b[0m\u001b[0m\n\u001b[1;32m      6\u001b[0m     \u001b[0moutput_dim\u001b[0m\u001b[0;34m=\u001b[0m\u001b[0;36m50\u001b[0m\u001b[0;34m,\u001b[0m\u001b[0;34m\u001b[0m\u001b[0m\n\u001b[0;32m----> 7\u001b[0;31m     return_sequences=True))\n\u001b[0m\u001b[1;32m      8\u001b[0m \u001b[0mmodel\u001b[0m\u001b[0;34m.\u001b[0m\u001b[0madd\u001b[0m\u001b[0;34m(\u001b[0m\u001b[0mDropout\u001b[0m\u001b[0;34m(\u001b[0m\u001b[0;36m0.2\u001b[0m\u001b[0;34m)\u001b[0m\u001b[0;34m)\u001b[0m\u001b[0;34m\u001b[0m\u001b[0m\n\u001b[1;32m      9\u001b[0m \u001b[0;34m\u001b[0m\u001b[0m\n",
      "\u001b[0;32m/Users/chnkyfire/Projects/Stock_Predictions/stock_predictions/lib/python2.7/site-packages/keras/legacy/interfaces.pyc\u001b[0m in \u001b[0;36mwrapper\u001b[0;34m(*args, **kwargs)\u001b[0m\n\u001b[1;32m     85\u001b[0m                 warnings.warn('Update your `' + object_name +\n\u001b[1;32m     86\u001b[0m                               '` call to the Keras 2 API: ' + signature)\n\u001b[0;32m---> 87\u001b[0;31m             \u001b[0;32mreturn\u001b[0m \u001b[0mfunc\u001b[0m\u001b[0;34m(\u001b[0m\u001b[0;34m*\u001b[0m\u001b[0margs\u001b[0m\u001b[0;34m,\u001b[0m \u001b[0;34m**\u001b[0m\u001b[0mkwargs\u001b[0m\u001b[0;34m)\u001b[0m\u001b[0;34m\u001b[0m\u001b[0m\n\u001b[0m\u001b[1;32m     88\u001b[0m         \u001b[0;32mreturn\u001b[0m \u001b[0mwrapper\u001b[0m\u001b[0;34m\u001b[0m\u001b[0m\n\u001b[1;32m     89\u001b[0m     \u001b[0;32mreturn\u001b[0m \u001b[0mlegacy_support\u001b[0m\u001b[0;34m\u001b[0m\u001b[0m\n",
      "\u001b[0;32m/Users/chnkyfire/Projects/Stock_Predictions/stock_predictions/lib/python2.7/site-packages/keras/layers/recurrent.pyc\u001b[0m in \u001b[0;36m__init__\u001b[0;34m(self, units, activation, recurrent_activation, use_bias, kernel_initializer, recurrent_initializer, bias_initializer, unit_forget_bias, kernel_regularizer, recurrent_regularizer, bias_regularizer, activity_regularizer, kernel_constraint, recurrent_constraint, bias_constraint, dropout, recurrent_dropout, **kwargs)\u001b[0m\n\u001b[1;32m    929\u001b[0m                  \u001b[0mrecurrent_dropout\u001b[0m\u001b[0;34m=\u001b[0m\u001b[0;36m0.\u001b[0m\u001b[0;34m,\u001b[0m\u001b[0;34m\u001b[0m\u001b[0m\n\u001b[1;32m    930\u001b[0m                  **kwargs):\n\u001b[0;32m--> 931\u001b[0;31m         \u001b[0msuper\u001b[0m\u001b[0;34m(\u001b[0m\u001b[0mLSTM\u001b[0m\u001b[0;34m,\u001b[0m \u001b[0mself\u001b[0m\u001b[0;34m)\u001b[0m\u001b[0;34m.\u001b[0m\u001b[0m__init__\u001b[0m\u001b[0;34m(\u001b[0m\u001b[0;34m**\u001b[0m\u001b[0mkwargs\u001b[0m\u001b[0;34m)\u001b[0m\u001b[0;34m\u001b[0m\u001b[0m\n\u001b[0m\u001b[1;32m    932\u001b[0m         \u001b[0mself\u001b[0m\u001b[0;34m.\u001b[0m\u001b[0munits\u001b[0m \u001b[0;34m=\u001b[0m \u001b[0munits\u001b[0m\u001b[0;34m\u001b[0m\u001b[0m\n\u001b[1;32m    933\u001b[0m         \u001b[0mself\u001b[0m\u001b[0;34m.\u001b[0m\u001b[0mactivation\u001b[0m \u001b[0;34m=\u001b[0m \u001b[0mactivations\u001b[0m\u001b[0;34m.\u001b[0m\u001b[0mget\u001b[0m\u001b[0;34m(\u001b[0m\u001b[0mactivation\u001b[0m\u001b[0;34m)\u001b[0m\u001b[0;34m\u001b[0m\u001b[0m\n",
      "\u001b[0;32m/Users/chnkyfire/Projects/Stock_Predictions/stock_predictions/lib/python2.7/site-packages/keras/layers/recurrent.pyc\u001b[0m in \u001b[0;36m__init__\u001b[0;34m(self, return_sequences, go_backwards, stateful, unroll, implementation, **kwargs)\u001b[0m\n\u001b[1;32m    179\u001b[0m                  \u001b[0mimplementation\u001b[0m\u001b[0;34m=\u001b[0m\u001b[0;36m0\u001b[0m\u001b[0;34m,\u001b[0m\u001b[0;34m\u001b[0m\u001b[0m\n\u001b[1;32m    180\u001b[0m                  **kwargs):\n\u001b[0;32m--> 181\u001b[0;31m         \u001b[0msuper\u001b[0m\u001b[0;34m(\u001b[0m\u001b[0mRecurrent\u001b[0m\u001b[0;34m,\u001b[0m \u001b[0mself\u001b[0m\u001b[0;34m)\u001b[0m\u001b[0;34m.\u001b[0m\u001b[0m__init__\u001b[0m\u001b[0;34m(\u001b[0m\u001b[0;34m**\u001b[0m\u001b[0mkwargs\u001b[0m\u001b[0;34m)\u001b[0m\u001b[0;34m\u001b[0m\u001b[0m\n\u001b[0m\u001b[1;32m    182\u001b[0m         \u001b[0mself\u001b[0m\u001b[0;34m.\u001b[0m\u001b[0mreturn_sequences\u001b[0m \u001b[0;34m=\u001b[0m \u001b[0mreturn_sequences\u001b[0m\u001b[0;34m\u001b[0m\u001b[0m\n\u001b[1;32m    183\u001b[0m         \u001b[0mself\u001b[0m\u001b[0;34m.\u001b[0m\u001b[0mgo_backwards\u001b[0m \u001b[0;34m=\u001b[0m \u001b[0mgo_backwards\u001b[0m\u001b[0;34m\u001b[0m\u001b[0m\n",
      "\u001b[0;32m/Users/chnkyfire/Projects/Stock_Predictions/stock_predictions/lib/python2.7/site-packages/keras/engine/topology.pyc\u001b[0m in \u001b[0;36m__init__\u001b[0;34m(self, **kwargs)\u001b[0m\n\u001b[1;32m    273\u001b[0m         \u001b[0;32mfor\u001b[0m \u001b[0mkwarg\u001b[0m \u001b[0;32min\u001b[0m \u001b[0mkwargs\u001b[0m\u001b[0;34m:\u001b[0m\u001b[0;34m\u001b[0m\u001b[0m\n\u001b[1;32m    274\u001b[0m             \u001b[0;32mif\u001b[0m \u001b[0mkwarg\u001b[0m \u001b[0;32mnot\u001b[0m \u001b[0;32min\u001b[0m \u001b[0mallowed_kwargs\u001b[0m\u001b[0;34m:\u001b[0m\u001b[0;34m\u001b[0m\u001b[0m\n\u001b[0;32m--> 275\u001b[0;31m                 \u001b[0;32mraise\u001b[0m \u001b[0mTypeError\u001b[0m\u001b[0;34m(\u001b[0m\u001b[0;34m'Keyword argument not understood:'\u001b[0m\u001b[0;34m,\u001b[0m \u001b[0mkwarg\u001b[0m\u001b[0;34m)\u001b[0m\u001b[0;34m\u001b[0m\u001b[0m\n\u001b[0m\u001b[1;32m    276\u001b[0m         \u001b[0mname\u001b[0m \u001b[0;34m=\u001b[0m \u001b[0mkwargs\u001b[0m\u001b[0;34m.\u001b[0m\u001b[0mget\u001b[0m\u001b[0;34m(\u001b[0m\u001b[0;34m'name'\u001b[0m\u001b[0;34m)\u001b[0m\u001b[0;34m\u001b[0m\u001b[0m\n\u001b[1;32m    277\u001b[0m         \u001b[0;32mif\u001b[0m \u001b[0;32mnot\u001b[0m \u001b[0mname\u001b[0m\u001b[0;34m:\u001b[0m\u001b[0;34m\u001b[0m\u001b[0m\n",
      "\u001b[0;31mTypeError\u001b[0m: ('Keyword argument not understood:', 'input_dim')"
     ]
    }
   ],
   "source": [
    "#Step 2 Build Model\n",
    "model = Sequential()\n",
    "\n",
    "model.add(LSTM(\n",
    "    input_dim=1,\n",
    "    output_dim=50,\n",
    "    return_sequences=True))\n",
    "model.add(Dropout(0.2))\n",
    "\n",
    "model.add(LSTM(\n",
    "    100,\n",
    "    return_sequences=False))\n",
    "model.add(Dropout(0.2))\n",
    "\n",
    "model.add(Dense(\n",
    "    output_dim=1))\n",
    "model.add(Activation('linear'))\n",
    "\n",
    "start = time.time()\n",
    "model.compile(loss='mse', optimizer='rmsprop')\n",
    "print 'compilation time : ', time.time() - start"
   ]
  },
  {
   "cell_type": "code",
   "execution_count": 4,
   "metadata": {
    "collapsed": false,
    "deletable": true,
    "editable": true
   },
   "outputs": [
    {
     "name": "stdout",
     "output_type": "stream",
     "text": [
      "Train on 3523 samples, validate on 186 samples\n",
      "Epoch 1/1\n",
      "3523/3523 [==============================] - 13s - loss: 0.0091 - val_loss: 6.4263e-04\n"
     ]
    },
    {
     "data": {
      "text/plain": [
       "<keras.callbacks.History at 0x114a28d50>"
      ]
     },
     "execution_count": 4,
     "metadata": {},
     "output_type": "execute_result"
    }
   ],
   "source": [
    "#Step 3 Train the model\n",
    "model.fit(\n",
    "    X_train,\n",
    "    y_train,\n",
    "    batch_size=512,\n",
    "    nb_epoch=1,\n",
    "    validation_split=0.05)"
   ]
  },
  {
   "cell_type": "code",
   "execution_count": 6,
   "metadata": {
    "collapsed": false,
    "deletable": true,
    "editable": true
   },
   "outputs": [],
   "source": [
    "#Step 4 - Plot the predictions!\n",
    "predictions = lstm.predict_sequences_multiple(model, X_test, 50, 50)\n",
    "#lstm.plot_results_multiple(predictions, y_test, 50)"
   ]
  },
  {
   "cell_type": "code",
   "execution_count": 7,
   "metadata": {
    "collapsed": false,
    "deletable": true,
    "editable": true
   },
   "outputs": [
    {
     "name": "stdout",
     "output_type": "stream",
     "text": [
      "[[0.062203344, 0.062569007, 0.062909111, 0.06317769, 0.063364953, 0.063487396, 0.063549824, 0.06359607, 0.063645616, 0.063718721, 0.063817032, 0.063949548, 0.06411241, 0.064295597, 0.064494878, 0.064698458, 0.06491413, 0.065128647, 0.065340623, 0.065552354, 0.065756053, 0.065957583, 0.066153623, 0.066341266, 0.066526696, 0.066712886, 0.06689664, 0.067079209, 0.067262761, 0.067446277, 0.067631066, 0.067817986, 0.068006501, 0.068196543, 0.06838765, 0.068576917, 0.068767123, 0.068956375, 0.069142312, 0.069325425, 0.069507629, 0.069686972, 0.069866188, 0.070048332, 0.070227094, 0.07040295, 0.070578285, 0.070751838, 0.070928626, 0.07110586], [0.016751058, 0.018900875, 0.020789802, 0.022482902, 0.023999237, 0.025315486, 0.026415262, 0.02730529, 0.027999621, 0.028524764, 0.028914291, 0.029200967, 0.029418167, 0.029596917, 0.029762872, 0.029927228, 0.030109361, 0.030310862, 0.030521769, 0.030734308, 0.030956939, 0.031187225, 0.031419713, 0.031653643, 0.031889573, 0.03211496, 0.032333802, 0.032544527, 0.03274158, 0.032936051, 0.033126205, 0.033322852, 0.033529676, 0.033736892, 0.033956278, 0.034175687, 0.034392316, 0.034614358, 0.034834374, 0.035058327, 0.035287037, 0.035512589, 0.035738997, 0.035960633, 0.036179021, 0.036394916, 0.03660934, 0.036822986, 0.03703218, 0.037239801], [-0.0042058886, -0.0039734524, -0.0037612231, -0.0035908958, -0.0034734695, -0.0033959919, -0.003342717, -0.0033001178, -0.0032465158, -0.0031808803, -0.0030877143, -0.00297199, -0.002843414, -0.0026973428, -0.0025476669, -0.0023913165, -0.0022396578, -0.0020877041, -0.0019439047, -0.0018043297, -0.0016660141, -0.0015225438, -0.0013777382, -0.0012332161, -0.0010941352, -0.0009499375, -0.00080118945, -0.0006509833, -0.00050132279, -0.0003482746, -0.00019404467, -4.0073413e-05, 0.00011246774, 0.00026817244, 0.00042430178, 0.00057848467, 0.00073312968, 0.00089425681, 0.001052111, 0.0012109528, 0.0013672778, 0.0015217593, 0.0016741774, 0.0018279561, 0.0019801117, 0.0021340165, 0.0022940598, 0.0024501104, 0.0026047742, 0.0027660225], [-3.0607451e-05, 0.00014109624, 0.00034980473, 0.0006573397, 0.001066851, 0.0015475327, 0.002051299, 0.0025425202, 0.0029906104, 0.0033801699, 0.0037057451, 0.003968637, 0.0041797785, 0.004355913, 0.0045002121, 0.0046285796, 0.0047539519, 0.0048800348, 0.0050131455, 0.0051543736, 0.0053102882, 0.0054775919, 0.0056575886, 0.0058451197, 0.0060311044, 0.0062169083, 0.0064053284, 0.006594724, 0.006779002, 0.0069585997, 0.0071285642, 0.007296077, 0.0074561918, 0.0076117222, 0.0077681094, 0.0079249907, 0.0080820918, 0.0082517685, 0.0084242318, 0.0085965199, 0.008771426, 0.0089508398, 0.009129623, 0.0093192831, 0.0095115304, 0.0097000049, 0.0098830229, 0.010062381, 0.01024043, 0.010412639], [-0.086034872, -0.08672794, -0.087335013, -0.0879445, -0.088589661, -0.089261189, -0.089934766, -0.090590648, -0.091205925, -0.091764711, -0.09226203, -0.092701122, -0.093091197, -0.093447037, -0.09377677, -0.094093956, -0.094417132, -0.094745584, -0.095088758, -0.095449381, -0.095831491, -0.096236497, -0.096659839, -0.097095571, -0.097532198, -0.097957641, -0.098361045, -0.098749958, -0.099149115, -0.099559002, -0.099972077, -0.10038374, -0.10078166, -0.1011862, -0.10159268, -0.10199349, -0.10240736, -0.10281934, -0.10323726, -0.10366207, -0.10409041, -0.1045303, -0.10498194, -0.10544061, -0.10589812, -0.10636205, -0.10682429, -0.10728796, -0.10775223, -0.10821822], [0.1039962, 0.10410947, 0.1042145, 0.10429231, 0.10432631, 0.10431572, 0.10428102, 0.10422932, 0.10417116, 0.10411943, 0.10408054, 0.10406258, 0.1040666, 0.10408178, 0.10410977, 0.10414983, 0.1042002, 0.10426078, 0.10431774, 0.1043696, 0.10442063, 0.10447069, 0.10451172, 0.10454874, 0.10458457, 0.10461102, 0.10463201, 0.10465143, 0.10466912, 0.10468554, 0.10470674, 0.104728, 0.10475194, 0.1047853, 0.10482808, 0.10486707, 0.10490845, 0.10494236, 0.10497572, 0.10500593, 0.1050353, 0.1050628, 0.10508912, 0.10511413, 0.1051408, 0.1051613, 0.1051865, 0.10522006, 0.10524438, 0.10527178], [-0.082212999, -0.08209791, -0.082040846, -0.081921495, -0.081718519, -0.081458233, -0.081189446, -0.08094386, -0.080751605, -0.080643378, -0.080628246, -0.080706447, -0.080862395, -0.081081264, -0.081354611, -0.081660874, -0.081985421, -0.082314201, -0.082647875, -0.082975276, -0.083287075, -0.083586849, -0.083881058, -0.084176332, -0.084459089, -0.08474946, -0.08503218, -0.085316807, -0.085598439, -0.08588475, -0.086184844, -0.086483516, -0.086793013, -0.087102339, -0.087417528, -0.087748945, -0.088087067, -0.088420853, -0.088758864, -0.089099869, -0.089432992, -0.089757547, -0.090078786, -0.090397812, -0.090709396, -0.091028571, -0.091358088, -0.091701157, -0.092049479, -0.092404202], [0.085570566, 0.08596354, 0.086281598, 0.086501718, 0.086633563, 0.086701088, 0.086714834, 0.086708352, 0.086702831, 0.086712815, 0.086747773, 0.086817406, 0.086913027, 0.087032765, 0.087162316, 0.087303422, 0.087451644, 0.087598771, 0.087740332, 0.087874584, 0.088002011, 0.088123627, 0.088243432, 0.088360019, 0.088474214, 0.088582449, 0.088687167, 0.088792533, 0.08889509, 0.089000128, 0.089112669, 0.089222737, 0.089341544, 0.08946228, 0.089587219, 0.089709327, 0.089826524, 0.08994256, 0.090057872, 0.090168476, 0.090275221, 0.090379141, 0.0904838, 0.090587243, 0.090690695, 0.090792485, 0.090892531, 0.090996966, 0.091104783, 0.091209412]]\n"
     ]
    }
   ],
   "source": [
    "print(predictions)"
   ]
  },
  {
   "cell_type": "code",
   "execution_count": null,
   "metadata": {
    "collapsed": true,
    "deletable": true,
    "editable": true
   },
   "outputs": [],
   "source": []
  }
 ],
 "metadata": {
  "kernelspec": {
   "display_name": "Python 2",
   "language": "python",
   "name": "python2"
  },
  "language_info": {
   "codemirror_mode": {
    "name": "ipython",
    "version": 2
   },
   "file_extension": ".py",
   "mimetype": "text/x-python",
   "name": "python",
   "nbconvert_exporter": "python",
   "pygments_lexer": "ipython2",
   "version": "2.7.10"
  }
 },
 "nbformat": 4,
 "nbformat_minor": 2
}
