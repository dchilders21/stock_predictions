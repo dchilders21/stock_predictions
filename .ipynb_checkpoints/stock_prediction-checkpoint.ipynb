{
 "cells": [
  {
   "cell_type": "code",
   "execution_count": 1,
   "metadata": {
    "collapsed": false,
    "deletable": true,
    "editable": true
   },
   "outputs": [],
   "source": [
    "%matplotlib notebook\n",
    "%matplotlib inline\n",
    "\n",
    "import os\n",
    "import math, time\n",
    "import datetime as dt\n",
    "import numpy as np\n",
    "from numpy import newaxis\n",
    "import matplotlib.pyplot as plt\n",
    "import pandas\n",
    "import pandas_datareader\n",
    "import stock_data_preprocessing"
   ]
  },
  {
   "cell_type": "code",
   "execution_count": 2,
   "metadata": {
    "collapsed": false,
    "deletable": true,
    "editable": true
   },
   "outputs": [
    {
     "data": {
      "text/html": [
       "<div>\n",
       "<table border=\"1\" class=\"dataframe\">\n",
       "  <thead>\n",
       "    <tr style=\"text-align: right;\">\n",
       "      <th></th>\n",
       "      <th>Date</th>\n",
       "      <th>Time</th>\n",
       "      <th>Open</th>\n",
       "      <th>High</th>\n",
       "      <th>Low</th>\n",
       "      <th>Current_Close</th>\n",
       "      <th>Volume</th>\n",
       "    </tr>\n",
       "  </thead>\n",
       "  <tbody>\n",
       "    <tr>\n",
       "      <th>0</th>\n",
       "      <td>1/6/17</td>\n",
       "      <td>6:30:00</td>\n",
       "      <td>9.14</td>\n",
       "      <td>9.15</td>\n",
       "      <td>9.13</td>\n",
       "      <td>9.13</td>\n",
       "      <td>74484</td>\n",
       "    </tr>\n",
       "    <tr>\n",
       "      <th>1</th>\n",
       "      <td>1/6/17</td>\n",
       "      <td>6:45:00</td>\n",
       "      <td>9.15</td>\n",
       "      <td>9.25</td>\n",
       "      <td>9.01</td>\n",
       "      <td>9.10</td>\n",
       "      <td>534528</td>\n",
       "    </tr>\n",
       "    <tr>\n",
       "      <th>2</th>\n",
       "      <td>1/6/17</td>\n",
       "      <td>7:00:00</td>\n",
       "      <td>9.11</td>\n",
       "      <td>9.12</td>\n",
       "      <td>9.04</td>\n",
       "      <td>9.09</td>\n",
       "      <td>223794</td>\n",
       "    </tr>\n",
       "    <tr>\n",
       "      <th>3</th>\n",
       "      <td>1/6/17</td>\n",
       "      <td>7:15:00</td>\n",
       "      <td>9.08</td>\n",
       "      <td>9.09</td>\n",
       "      <td>9.00</td>\n",
       "      <td>9.03</td>\n",
       "      <td>491085</td>\n",
       "    </tr>\n",
       "    <tr>\n",
       "      <th>4</th>\n",
       "      <td>1/6/17</td>\n",
       "      <td>7:30:00</td>\n",
       "      <td>9.02</td>\n",
       "      <td>9.10</td>\n",
       "      <td>9.01</td>\n",
       "      <td>9.05</td>\n",
       "      <td>224747</td>\n",
       "    </tr>\n",
       "  </tbody>\n",
       "</table>\n",
       "</div>"
      ],
      "text/plain": [
       "     Date     Time  Open  High   Low  Current_Close  Volume\n",
       "0  1/6/17  6:30:00  9.14  9.15  9.13           9.13   74484\n",
       "1  1/6/17  6:45:00  9.15  9.25  9.01           9.10  534528\n",
       "2  1/6/17  7:00:00  9.11  9.12  9.04           9.09  223794\n",
       "3  1/6/17  7:15:00  9.08  9.09  9.00           9.03  491085\n",
       "4  1/6/17  7:30:00  9.02  9.10  9.01           9.05  224747"
      ]
     },
     "execution_count": 2,
     "metadata": {},
     "output_type": "execute_result"
    }
   ],
   "source": [
    "data = pandas.read_csv('csv/gpro.csv')\n",
    "del data['Name']\n",
    "data.head()"
   ]
  },
  {
   "cell_type": "code",
   "execution_count": 3,
   "metadata": {
    "collapsed": false,
    "deletable": true,
    "editable": true
   },
   "outputs": [
    {
     "data": {
      "text/html": [
       "<div>\n",
       "<table border=\"1\" class=\"dataframe\">\n",
       "  <thead>\n",
       "    <tr style=\"text-align: right;\">\n",
       "      <th></th>\n",
       "      <th>Date</th>\n",
       "      <th>Time</th>\n",
       "      <th>Open</th>\n",
       "      <th>High</th>\n",
       "      <th>Low</th>\n",
       "      <th>Current_Close</th>\n",
       "      <th>Volume</th>\n",
       "      <th>Future_Close</th>\n",
       "    </tr>\n",
       "  </thead>\n",
       "  <tbody>\n",
       "    <tr>\n",
       "      <th>804</th>\n",
       "      <td>2/17/17</td>\n",
       "      <td>11:45:00</td>\n",
       "      <td>9.25</td>\n",
       "      <td>9.25</td>\n",
       "      <td>9.22</td>\n",
       "      <td>9.22</td>\n",
       "      <td>21576</td>\n",
       "      <td>9.22</td>\n",
       "    </tr>\n",
       "    <tr>\n",
       "      <th>805</th>\n",
       "      <td>2/17/17</td>\n",
       "      <td>12:00:00</td>\n",
       "      <td>9.23</td>\n",
       "      <td>9.24</td>\n",
       "      <td>9.21</td>\n",
       "      <td>9.22</td>\n",
       "      <td>36674</td>\n",
       "      <td>9.22</td>\n",
       "    </tr>\n",
       "    <tr>\n",
       "      <th>806</th>\n",
       "      <td>2/17/17</td>\n",
       "      <td>12:15:00</td>\n",
       "      <td>9.22</td>\n",
       "      <td>9.23</td>\n",
       "      <td>9.18</td>\n",
       "      <td>9.22</td>\n",
       "      <td>74216</td>\n",
       "      <td>9.21</td>\n",
       "    </tr>\n",
       "    <tr>\n",
       "      <th>807</th>\n",
       "      <td>2/17/17</td>\n",
       "      <td>12:30:00</td>\n",
       "      <td>9.21</td>\n",
       "      <td>9.22</td>\n",
       "      <td>9.19</td>\n",
       "      <td>9.21</td>\n",
       "      <td>54399</td>\n",
       "      <td>9.21</td>\n",
       "    </tr>\n",
       "    <tr>\n",
       "      <th>808</th>\n",
       "      <td>2/17/17</td>\n",
       "      <td>12:45:00</td>\n",
       "      <td>9.21</td>\n",
       "      <td>9.22</td>\n",
       "      <td>9.19</td>\n",
       "      <td>9.21</td>\n",
       "      <td>46141</td>\n",
       "      <td>9.25</td>\n",
       "    </tr>\n",
       "  </tbody>\n",
       "</table>\n",
       "</div>"
      ],
      "text/plain": [
       "        Date      Time  Open  High   Low  Current_Close  Volume  Future_Close\n",
       "804  2/17/17  11:45:00  9.25  9.25  9.22           9.22   21576          9.22\n",
       "805  2/17/17  12:00:00  9.23  9.24  9.21           9.22   36674          9.22\n",
       "806  2/17/17  12:15:00  9.22  9.23  9.18           9.22   74216          9.21\n",
       "807  2/17/17  12:30:00  9.21  9.22  9.19           9.21   54399          9.21\n",
       "808  2/17/17  12:45:00  9.21  9.22  9.19           9.21   46141          9.25"
      ]
     },
     "execution_count": 3,
     "metadata": {},
     "output_type": "execute_result"
    }
   ],
   "source": [
    "# Shifts the close so that we can predict the next days target value 'Future Close'\n",
    "data['Future_Close'] = data['Current_Close'].shift(-1)\n",
    "# Remove the last row since we don't have a Target Value\n",
    "data = data[:-1]\n",
    "data.tail()"
   ]
  },
  {
   "cell_type": "code",
   "execution_count": 4,
   "metadata": {
    "collapsed": false,
    "deletable": true,
    "editable": true
   },
   "outputs": [
    {
     "data": {
      "text/html": [
       "<div>\n",
       "<table border=\"1\" class=\"dataframe\">\n",
       "  <thead>\n",
       "    <tr style=\"text-align: right;\">\n",
       "      <th></th>\n",
       "      <th>Future_Close</th>\n",
       "      <th>Normalized High</th>\n",
       "      <th>Normalized Low</th>\n",
       "      <th>Normalized Open</th>\n",
       "      <th>Normalized Volume</th>\n",
       "      <th>Normalized Current_Close</th>\n",
       "    </tr>\n",
       "  </thead>\n",
       "  <tbody>\n",
       "    <tr>\n",
       "      <th>804</th>\n",
       "      <td>9.22</td>\n",
       "      <td>3.886555</td>\n",
       "      <td>3.873950</td>\n",
       "      <td>3.886555</td>\n",
       "      <td>0.007790</td>\n",
       "      <td>3.873950</td>\n",
       "    </tr>\n",
       "    <tr>\n",
       "      <th>805</th>\n",
       "      <td>9.22</td>\n",
       "      <td>3.882353</td>\n",
       "      <td>3.869748</td>\n",
       "      <td>3.878151</td>\n",
       "      <td>0.013241</td>\n",
       "      <td>3.873950</td>\n",
       "    </tr>\n",
       "    <tr>\n",
       "      <th>806</th>\n",
       "      <td>9.21</td>\n",
       "      <td>3.878151</td>\n",
       "      <td>3.857143</td>\n",
       "      <td>3.873950</td>\n",
       "      <td>0.026795</td>\n",
       "      <td>3.873950</td>\n",
       "    </tr>\n",
       "    <tr>\n",
       "      <th>807</th>\n",
       "      <td>9.21</td>\n",
       "      <td>3.873950</td>\n",
       "      <td>3.861345</td>\n",
       "      <td>3.869748</td>\n",
       "      <td>0.019640</td>\n",
       "      <td>3.869748</td>\n",
       "    </tr>\n",
       "    <tr>\n",
       "      <th>808</th>\n",
       "      <td>9.25</td>\n",
       "      <td>3.873950</td>\n",
       "      <td>3.861345</td>\n",
       "      <td>3.869748</td>\n",
       "      <td>0.016659</td>\n",
       "      <td>3.869748</td>\n",
       "    </tr>\n",
       "  </tbody>\n",
       "</table>\n",
       "</div>"
      ],
      "text/plain": [
       "     Future_Close  Normalized High  Normalized Low  Normalized Open  \\\n",
       "804          9.22         3.886555        3.873950         3.886555   \n",
       "805          9.22         3.882353        3.869748         3.878151   \n",
       "806          9.21         3.878151        3.857143         3.873950   \n",
       "807          9.21         3.873950        3.861345         3.869748   \n",
       "808          9.25         3.873950        3.861345         3.869748   \n",
       "\n",
       "     Normalized Volume  Normalized Current_Close  \n",
       "804           0.007790                  3.873950  \n",
       "805           0.013241                  3.873950  \n",
       "806           0.026795                  3.873950  \n",
       "807           0.019640                  3.869748  \n",
       "808           0.016659                  3.869748  "
      ]
     },
     "execution_count": 4,
     "metadata": {},
     "output_type": "execute_result"
    }
   ],
   "source": [
    "min_data = data.min()\n",
    "max_data = data.max()\n",
    "data_adj = data\n",
    "data_adj['Normalized High'] = data[\"High\"]/(max_data[\"High\"] - min_data[\"High\"])\n",
    "data_adj['Normalized Low'] = data[\"Low\"]/(max_data[\"Low\"] - min_data[\"Low\"])\n",
    "data_adj['Normalized Open'] = data[\"Open\"]/(max_data[\"Open\"] - min_data[\"Open\"])\n",
    "data_adj['Normalized Volume'] = data[\"Volume\"]/(max_data[\"Volume\"] - min_data[\"Volume\"])\n",
    "data_adj['Normalized Current_Close'] = data[\"Current_Close\"]/(max_data[\"Current_Close\"] - min_data[\"Current_Close\"])\n",
    "#data_adj['Normalized Future_Close'] = data[\"Future_Close\"]/(max_data[\"Future_Close\"] - min_data[\"Future_Close\"])\n",
    "data_adj = data_adj.drop(['Date', 'Time', 'Open', 'High', 'Low', 'Current_Close', 'Volume'], axis=1)\n",
    "data_adj.tail()\n"
   ]
  },
  {
   "cell_type": "code",
   "execution_count": 5,
   "metadata": {
    "collapsed": false,
    "deletable": true,
    "editable": true
   },
   "outputs": [
    {
     "data": {
      "image/png": "[encoded data removed]",
      "text/plain": [
       "<matplotlib.figure.Figure at 0x110d67750>"
      ]
     },
     "metadata": {},
     "output_type": "display_data"
    }
   ],
   "source": [
    "ax0 = plt.subplot2grid((6,2),(0,0),rowspan=5, colspan=1)\n",
    "ax1 = plt.subplot2grid((6,2),(0,1),rowspan=5, colspan=1)\n",
    "    \n",
    "ax0.plot(data.index,data['Current_Close'])\n",
    "ax1.plot(data.index,data['Volume'])\n",
    "plt.show()"
   ]
  },
  {
   "cell_type": "code",
   "execution_count": 6,
   "metadata": {
    "collapsed": false,
    "deletable": true,
    "editable": true
   },
   "outputs": [],
   "source": [
    "def load_data(stock, seq_len):\n",
    "    amount_of_features = len(stock.columns)\n",
    "    data = stock.as_matrix() #pd.DataFrame(stock)\n",
    "    sequence_length = seq_len + 1\n",
    "    result = []\n",
    "    for index in range(len(data) - sequence_length):\n",
    "        result.append(data[index: index + sequence_length])\n",
    "\n",
    "    result = np.array(result)\n",
    "    print(result.shape)\n",
    "    row = round(0.9 * result.shape[0])\n",
    "    train = result[:int(row), :]\n",
    "    \n",
    "    x_train = train[:, :-1]\n",
    "    y_train = train[:, -1][:,-1]\n",
    "    x_test = result[int(row):, :-1]\n",
    "    y_test = result[int(row):, -1][:,-1]\n",
    "\n",
    "    x_train = np.reshape(x_train, (x_train.shape[0], x_train.shape[1], amount_of_features))\n",
    "    x_test = np.reshape(x_test, (x_test.shape[0], x_test.shape[1], amount_of_features))  \n",
    "\n",
    "    return [x_train, y_train, x_test, y_test]"
   ]
  },
  {
   "cell_type": "code",
   "execution_count": 7,
   "metadata": {
    "collapsed": false,
    "deletable": true,
    "editable": true
   },
   "outputs": [
    {
     "name": "stdout",
     "output_type": "stream",
     "text": [
      "(809, 13)\n",
      "(786, 23, 13)\n",
      "('X_train', (707, 22, 13))\n",
      "('y_train', (707,))\n",
      "('X_test', (79, 22, 13))\n",
      "('y_test', (79,))\n"
     ]
    }
   ],
   "source": [
    "window = 22\n",
    "print(data_adj.shape)\n",
    "X_train, y_train, X_test, y_test = load_data(data_adj[::-1], window)\n",
    "print(\"X_train\", X_train.shape)\n",
    "print(\"y_train\", y_train.shape)\n",
    "print(\"X_test\", X_test.shape)\n",
    "print(\"y_test\", y_test.shape)"
   ]
  },
  {
   "cell_type": "code",
   "execution_count": 8,
   "metadata": {
    "collapsed": false,
    "deletable": true,
    "editable": true
   },
   "outputs": [
    {
     "name": "stderr",
     "output_type": "stream",
     "text": [
      "Using TensorFlow backend.\n"
     ]
    }
   ],
   "source": [
    "from keras.layers.core import Dense, Activation, Dropout\n",
    "from keras.layers.recurrent import LSTM\n",
    "from keras.models import Sequential\n",
    "import lstm, time #helper libraries"
   ]
  },
  {
   "cell_type": "code",
   "execution_count": 9,
   "metadata": {
    "collapsed": false,
    "deletable": true,
    "editable": true
   },
   "outputs": [
    {
     "name": "stdout",
     "output_type": "stream",
     "text": [
      "13\n",
      "compilation time : 0.10693192482\n"
     ]
    }
   ],
   "source": [
    "#Step 2 Build Model\n",
    "model = Sequential()\n",
    "print(X_train.shape[-1])\n",
    "\n",
    "model.add(LSTM(\n",
    "    input_dim=X_train.shape[-1],\n",
    "    output_dim=50,\n",
    "    return_sequences=True))\n",
    "model.add(Dropout(0.2))\n",
    "\n",
    "model.add(LSTM(\n",
    "    100,\n",
    "    return_sequences=False))\n",
    "model.add(Dropout(0.2))\n",
    "\n",
    "model.add(Dense(\n",
    "    output_dim=1))\n",
    "model.add(Activation('linear'))\n",
    "\n",
    "start = time.time()\n",
    "model.compile(loss='mse', optimizer='rmsprop')\n",
    "print('compilation time : {}'.format(time.time() - start))"
   ]
  },
  {
   "cell_type": "code",
   "execution_count": 12,
   "metadata": {
    "collapsed": false,
    "deletable": true,
    "editable": true
   },
   "outputs": [
    {
     "name": "stdout",
     "output_type": "stream",
     "text": [
      "[[['2/17/17' '12:45:00' 9.21 ..., 3.869747899159663 0.016658597494910284\n",
      "   3.869747899159663]\n",
      "  ['2/17/17' '12:30:00' 9.21 ..., 3.869747899159663 0.01964003912194414\n",
      "   3.869747899159663]\n",
      "  ['2/17/17' '12:15:00' 9.22 ..., 3.873949579831932 0.02679470474593662\n",
      "   3.873949579831932]\n",
      "  ..., \n",
      "  ['2/17/17' '8:00:00' 9.2 ..., 3.865546218487393 0.024620180294541015\n",
      "   3.857142857142856]\n",
      "  ['2/17/17' '7:45:00' 9.19 ..., 3.8613445378151248 0.023382546255128075\n",
      "   3.8613445378151248]\n",
      "  ['2/17/17' '7:30:00' 9.21 ..., 3.869747899159663 0.035633606890892164\n",
      "   3.857142857142856]]\n",
      "\n",
      " [['2/17/17' '12:30:00' 9.21 ..., 3.869747899159663 0.01964003912194414\n",
      "   3.869747899159663]\n",
      "  ['2/17/17' '12:15:00' 9.22 ..., 3.873949579831932 0.02679470474593662\n",
      "   3.873949579831932]\n",
      "  ['2/17/17' '12:00:00' 9.23 ..., 3.878151260504201 0.013240662415819764\n",
      "   3.873949579831932]\n",
      "  ..., \n",
      "  ['2/17/17' '7:45:00' 9.19 ..., 3.8613445378151248 0.023382546255128075\n",
      "   3.8613445378151248]\n",
      "  ['2/17/17' '7:30:00' 9.21 ..., 3.869747899159663 0.035633606890892164\n",
      "   3.857142857142856]\n",
      "  ['2/17/17' '7:15:00' 9.19 ..., 3.8613445378151248 0.0323817487249084\n",
      "   3.873949579831932]]\n",
      "\n",
      " [['2/17/17' '12:15:00' 9.22 ..., 3.873949579831932 0.02679470474593662\n",
      "   3.873949579831932]\n",
      "  ['2/17/17' '12:00:00' 9.23 ..., 3.878151260504201 0.013240662415819764\n",
      "   3.873949579831932]\n",
      "  ['2/17/17' '11:45:00' 9.25 ..., 3.886554621848738 0.007789729298242004\n",
      "   3.873949579831932]\n",
      "  ..., \n",
      "  ['2/17/17' '7:30:00' 9.21 ..., 3.869747899159663 0.035633606890892164\n",
      "   3.857142857142856]\n",
      "  ['2/17/17' '7:15:00' 9.19 ..., 3.8613445378151248 0.0323817487249084\n",
      "   3.873949579831932]\n",
      "  ['2/17/17' '7:00:00' 9.19 ..., 3.8613445378151248 0.06355330220474323\n",
      "   3.8613445378151248]]\n",
      "\n",
      " ..., \n",
      " [['1/11/17' '12:15:00' 9.11 ..., 3.827731092436973 0.04256840112340201\n",
      "   3.844537815126049]\n",
      "  ['1/11/17' '12:00:00' 9.18 ..., 3.857142857142856 0.04755684614165422\n",
      "   3.827731092436973]\n",
      "  ['1/11/17' '11:45:00' 9.14 ..., 3.8403361344537803 0.024735712060180496\n",
      "   3.8613445378151248]\n",
      "  ..., \n",
      "  ['1/11/17' '7:30:00' 9.11 ..., 3.827731092436973 0.05793376491668535\n",
      "   3.8403361344537803]\n",
      "  ['1/11/17' '7:15:00' 9.12 ..., 3.831932773109242 0.013826625089672508\n",
      "   3.8235294117647043]\n",
      "  ['1/11/17' '7:00:00' 9.09 ..., 3.819327731092436 0.05737812933131297\n",
      "   3.831932773109242]]\n",
      "\n",
      " [['1/11/17' '12:00:00' 9.18 ..., 3.857142857142856 0.04755684614165422\n",
      "   3.827731092436973]\n",
      "  ['1/11/17' '11:45:00' 9.14 ..., 3.8403361344537803 0.024735712060180496\n",
      "   3.8613445378151248]\n",
      "  ['1/11/17' '11:30:00' 9.16 ..., 3.848739495798318 0.008161958205661707\n",
      "   3.836134453781512]\n",
      "  ..., \n",
      "  ['1/11/17' '7:15:00' 9.12 ..., 3.831932773109242 0.013826625089672508\n",
      "   3.8235294117647043]\n",
      "  ['1/11/17' '7:00:00' 9.09 ..., 3.819327731092436 0.05737812933131297\n",
      "   3.831932773109242]\n",
      "  ['1/11/17' '6:45:00' 9.08 ..., 3.815126050420167 0.01788179006361829\n",
      "   3.827731092436973]]\n",
      "\n",
      " [['1/11/17' '11:45:00' 9.14 ..., 3.8403361344537803 0.024735712060180496\n",
      "   3.8613445378151248]\n",
      "  ['1/11/17' '11:30:00' 9.16 ..., 3.848739495798318 0.008161958205661707\n",
      "   3.836134453781512]\n",
      "  ['1/11/17' '11:15:00' 9.16 ..., 3.848739495798318 0.012918256582332088\n",
      "   3.848739495798318]\n",
      "  ..., \n",
      "  ['1/11/17' '7:00:00' 9.09 ..., 3.819327731092436 0.05737812933131297\n",
      "   3.831932773109242]\n",
      "  ['1/11/17' '6:45:00' 9.08 ..., 3.815126050420167 0.01788179006361829\n",
      "   3.827731092436973]\n",
      "  ['1/11/17' '6:30:00' 9.05 ..., 3.8025210084033603 0.01484655395820855\n",
      "   3.8025210084033603]]]\n",
      "Train on 671 samples, validate on 36 samples\n",
      "Epoch 1/250\n"
     ]
    },
    {
     "ename": "ValueError",
     "evalue": "invalid literal for float(): 10:30:00",
     "output_type": "error",
     "traceback": [
      "\u001b[0;31m---------------------------------------------------------------------------\u001b[0m",
      "\u001b[0;31mValueError\u001b[0m                                Traceback (most recent call last)",
      "\u001b[0;32m<ipython-input-12-6edc06d12440>\u001b[0m in \u001b[0;36m<module>\u001b[0;34m()\u001b[0m\n\u001b[1;32m      6\u001b[0m     \u001b[0mbatch_size\u001b[0m\u001b[0;34m=\u001b[0m\u001b[0;36m100\u001b[0m\u001b[0;34m,\u001b[0m\u001b[0;34m\u001b[0m\u001b[0m\n\u001b[1;32m      7\u001b[0m     \u001b[0mnb_epoch\u001b[0m\u001b[0;34m=\u001b[0m\u001b[0;36m250\u001b[0m\u001b[0;34m,\u001b[0m\u001b[0;34m\u001b[0m\u001b[0m\n\u001b[0;32m----> 8\u001b[0;31m     validation_split=0.05)\n\u001b[0m",
      "\u001b[0;32m/Users/chnkyfire/Projects/Stock_Predictions/stock_predictions/lib/python2.7/site-packages/keras/models.pyc\u001b[0m in \u001b[0;36mfit\u001b[0;34m(self, x, y, batch_size, nb_epoch, verbose, callbacks, validation_split, validation_data, shuffle, class_weight, sample_weight, initial_epoch, **kwargs)\u001b[0m\n\u001b[1;32m    670\u001b[0m                               \u001b[0mclass_weight\u001b[0m\u001b[0;34m=\u001b[0m\u001b[0mclass_weight\u001b[0m\u001b[0;34m,\u001b[0m\u001b[0;34m\u001b[0m\u001b[0m\n\u001b[1;32m    671\u001b[0m                               \u001b[0msample_weight\u001b[0m\u001b[0;34m=\u001b[0m\u001b[0msample_weight\u001b[0m\u001b[0;34m,\u001b[0m\u001b[0;34m\u001b[0m\u001b[0m\n\u001b[0;32m--> 672\u001b[0;31m                               initial_epoch=initial_epoch)\n\u001b[0m\u001b[1;32m    673\u001b[0m \u001b[0;34m\u001b[0m\u001b[0m\n\u001b[1;32m    674\u001b[0m     def evaluate(self, x, y, batch_size=32, verbose=1,\n",
      "\u001b[0;32m/Users/chnkyfire/Projects/Stock_Predictions/stock_predictions/lib/python2.7/site-packages/keras/engine/training.pyc\u001b[0m in \u001b[0;36mfit\u001b[0;34m(self, x, y, batch_size, nb_epoch, verbose, callbacks, validation_split, validation_data, shuffle, class_weight, sample_weight, initial_epoch)\u001b[0m\n\u001b[1;32m   1194\u001b[0m                               \u001b[0mval_f\u001b[0m\u001b[0;34m=\u001b[0m\u001b[0mval_f\u001b[0m\u001b[0;34m,\u001b[0m \u001b[0mval_ins\u001b[0m\u001b[0;34m=\u001b[0m\u001b[0mval_ins\u001b[0m\u001b[0;34m,\u001b[0m \u001b[0mshuffle\u001b[0m\u001b[0;34m=\u001b[0m\u001b[0mshuffle\u001b[0m\u001b[0;34m,\u001b[0m\u001b[0;34m\u001b[0m\u001b[0m\n\u001b[1;32m   1195\u001b[0m                               \u001b[0mcallback_metrics\u001b[0m\u001b[0;34m=\u001b[0m\u001b[0mcallback_metrics\u001b[0m\u001b[0;34m,\u001b[0m\u001b[0;34m\u001b[0m\u001b[0m\n\u001b[0;32m-> 1196\u001b[0;31m                               initial_epoch=initial_epoch)\n\u001b[0m\u001b[1;32m   1197\u001b[0m \u001b[0;34m\u001b[0m\u001b[0m\n\u001b[1;32m   1198\u001b[0m     \u001b[0;32mdef\u001b[0m \u001b[0mevaluate\u001b[0m\u001b[0;34m(\u001b[0m\u001b[0mself\u001b[0m\u001b[0;34m,\u001b[0m \u001b[0mx\u001b[0m\u001b[0;34m,\u001b[0m \u001b[0my\u001b[0m\u001b[0;34m,\u001b[0m \u001b[0mbatch_size\u001b[0m\u001b[0;34m=\u001b[0m\u001b[0;36m32\u001b[0m\u001b[0;34m,\u001b[0m \u001b[0mverbose\u001b[0m\u001b[0;34m=\u001b[0m\u001b[0;36m1\u001b[0m\u001b[0;34m,\u001b[0m \u001b[0msample_weight\u001b[0m\u001b[0;34m=\u001b[0m\u001b[0mNone\u001b[0m\u001b[0;34m)\u001b[0m\u001b[0;34m:\u001b[0m\u001b[0;34m\u001b[0m\u001b[0m\n",
      "\u001b[0;32m/Users/chnkyfire/Projects/Stock_Predictions/stock_predictions/lib/python2.7/site-packages/keras/engine/training.pyc\u001b[0m in \u001b[0;36m_fit_loop\u001b[0;34m(self, f, ins, out_labels, batch_size, nb_epoch, verbose, callbacks, val_f, val_ins, shuffle, callback_metrics, initial_epoch)\u001b[0m\n\u001b[1;32m    889\u001b[0m                 \u001b[0mbatch_logs\u001b[0m\u001b[0;34m[\u001b[0m\u001b[0;34m'size'\u001b[0m\u001b[0;34m]\u001b[0m \u001b[0;34m=\u001b[0m \u001b[0mlen\u001b[0m\u001b[0;34m(\u001b[0m\u001b[0mbatch_ids\u001b[0m\u001b[0;34m)\u001b[0m\u001b[0;34m\u001b[0m\u001b[0m\n\u001b[1;32m    890\u001b[0m                 \u001b[0mcallbacks\u001b[0m\u001b[0;34m.\u001b[0m\u001b[0mon_batch_begin\u001b[0m\u001b[0;34m(\u001b[0m\u001b[0mbatch_index\u001b[0m\u001b[0;34m,\u001b[0m \u001b[0mbatch_logs\u001b[0m\u001b[0;34m)\u001b[0m\u001b[0;34m\u001b[0m\u001b[0m\n\u001b[0;32m--> 891\u001b[0;31m                 \u001b[0mouts\u001b[0m \u001b[0;34m=\u001b[0m \u001b[0mf\u001b[0m\u001b[0;34m(\u001b[0m\u001b[0mins_batch\u001b[0m\u001b[0;34m)\u001b[0m\u001b[0;34m\u001b[0m\u001b[0m\n\u001b[0m\u001b[1;32m    892\u001b[0m                 \u001b[0;32mif\u001b[0m \u001b[0;32mnot\u001b[0m \u001b[0misinstance\u001b[0m\u001b[0;34m(\u001b[0m\u001b[0mouts\u001b[0m\u001b[0;34m,\u001b[0m \u001b[0mlist\u001b[0m\u001b[0;34m)\u001b[0m\u001b[0;34m:\u001b[0m\u001b[0;34m\u001b[0m\u001b[0m\n\u001b[1;32m    893\u001b[0m                     \u001b[0mouts\u001b[0m \u001b[0;34m=\u001b[0m \u001b[0;34m[\u001b[0m\u001b[0mouts\u001b[0m\u001b[0;34m]\u001b[0m\u001b[0;34m\u001b[0m\u001b[0m\n",
      "\u001b[0;32m/Users/chnkyfire/Projects/Stock_Predictions/stock_predictions/lib/python2.7/site-packages/keras/backend/tensorflow_backend.pyc\u001b[0m in \u001b[0;36m__call__\u001b[0;34m(self, inputs)\u001b[0m\n\u001b[1;32m   1941\u001b[0m         \u001b[0msession\u001b[0m \u001b[0;34m=\u001b[0m \u001b[0mget_session\u001b[0m\u001b[0;34m(\u001b[0m\u001b[0;34m)\u001b[0m\u001b[0;34m\u001b[0m\u001b[0m\n\u001b[1;32m   1942\u001b[0m         updated = session.run(self.outputs + [self.updates_op],\n\u001b[0;32m-> 1943\u001b[0;31m                               feed_dict=feed_dict)\n\u001b[0m\u001b[1;32m   1944\u001b[0m         \u001b[0;32mreturn\u001b[0m \u001b[0mupdated\u001b[0m\u001b[0;34m[\u001b[0m\u001b[0;34m:\u001b[0m\u001b[0mlen\u001b[0m\u001b[0;34m(\u001b[0m\u001b[0mself\u001b[0m\u001b[0;34m.\u001b[0m\u001b[0moutputs\u001b[0m\u001b[0;34m)\u001b[0m\u001b[0;34m]\u001b[0m\u001b[0;34m\u001b[0m\u001b[0m\n\u001b[1;32m   1945\u001b[0m \u001b[0;34m\u001b[0m\u001b[0m\n",
      "\u001b[0;32m/Users/chnkyfire/Projects/Stock_Predictions/stock_predictions/lib/python2.7/site-packages/tensorflow/python/client/session.pyc\u001b[0m in \u001b[0;36mrun\u001b[0;34m(self, fetches, feed_dict, options, run_metadata)\u001b[0m\n\u001b[1;32m    765\u001b[0m     \u001b[0;32mtry\u001b[0m\u001b[0;34m:\u001b[0m\u001b[0;34m\u001b[0m\u001b[0m\n\u001b[1;32m    766\u001b[0m       result = self._run(None, fetches, feed_dict, options_ptr,\n\u001b[0;32m--> 767\u001b[0;31m                          run_metadata_ptr)\n\u001b[0m\u001b[1;32m    768\u001b[0m       \u001b[0;32mif\u001b[0m \u001b[0mrun_metadata\u001b[0m\u001b[0;34m:\u001b[0m\u001b[0;34m\u001b[0m\u001b[0m\n\u001b[1;32m    769\u001b[0m         \u001b[0mproto_data\u001b[0m \u001b[0;34m=\u001b[0m \u001b[0mtf_session\u001b[0m\u001b[0;34m.\u001b[0m\u001b[0mTF_GetBuffer\u001b[0m\u001b[0;34m(\u001b[0m\u001b[0mrun_metadata_ptr\u001b[0m\u001b[0;34m)\u001b[0m\u001b[0;34m\u001b[0m\u001b[0m\n",
      "\u001b[0;32m/Users/chnkyfire/Projects/Stock_Predictions/stock_predictions/lib/python2.7/site-packages/tensorflow/python/client/session.pyc\u001b[0m in \u001b[0;36m_run\u001b[0;34m(self, handle, fetches, feed_dict, options, run_metadata)\u001b[0m\n\u001b[1;32m    936\u001b[0m                 ' to a larger type (e.g. int64).')\n\u001b[1;32m    937\u001b[0m \u001b[0;34m\u001b[0m\u001b[0m\n\u001b[0;32m--> 938\u001b[0;31m           \u001b[0mnp_val\u001b[0m \u001b[0;34m=\u001b[0m \u001b[0mnp\u001b[0m\u001b[0;34m.\u001b[0m\u001b[0masarray\u001b[0m\u001b[0;34m(\u001b[0m\u001b[0msubfeed_val\u001b[0m\u001b[0;34m,\u001b[0m \u001b[0mdtype\u001b[0m\u001b[0;34m=\u001b[0m\u001b[0msubfeed_dtype\u001b[0m\u001b[0;34m)\u001b[0m\u001b[0;34m\u001b[0m\u001b[0m\n\u001b[0m\u001b[1;32m    939\u001b[0m \u001b[0;34m\u001b[0m\u001b[0m\n\u001b[1;32m    940\u001b[0m           \u001b[0;32mif\u001b[0m \u001b[0;32mnot\u001b[0m \u001b[0msubfeed_t\u001b[0m\u001b[0;34m.\u001b[0m\u001b[0mget_shape\u001b[0m\u001b[0;34m(\u001b[0m\u001b[0;34m)\u001b[0m\u001b[0;34m.\u001b[0m\u001b[0mis_compatible_with\u001b[0m\u001b[0;34m(\u001b[0m\u001b[0mnp_val\u001b[0m\u001b[0;34m.\u001b[0m\u001b[0mshape\u001b[0m\u001b[0;34m)\u001b[0m\u001b[0;34m:\u001b[0m\u001b[0;34m\u001b[0m\u001b[0m\n",
      "\u001b[0;32m/Users/chnkyfire/Projects/Stock_Predictions/stock_predictions/lib/python2.7/site-packages/numpy/core/numeric.pyc\u001b[0m in \u001b[0;36masarray\u001b[0;34m(a, dtype, order)\u001b[0m\n\u001b[1;32m    529\u001b[0m \u001b[0;34m\u001b[0m\u001b[0m\n\u001b[1;32m    530\u001b[0m     \"\"\"\n\u001b[0;32m--> 531\u001b[0;31m     \u001b[0;32mreturn\u001b[0m \u001b[0marray\u001b[0m\u001b[0;34m(\u001b[0m\u001b[0ma\u001b[0m\u001b[0;34m,\u001b[0m \u001b[0mdtype\u001b[0m\u001b[0;34m,\u001b[0m \u001b[0mcopy\u001b[0m\u001b[0;34m=\u001b[0m\u001b[0mFalse\u001b[0m\u001b[0;34m,\u001b[0m \u001b[0morder\u001b[0m\u001b[0;34m=\u001b[0m\u001b[0morder\u001b[0m\u001b[0;34m)\u001b[0m\u001b[0;34m\u001b[0m\u001b[0m\n\u001b[0m\u001b[1;32m    532\u001b[0m \u001b[0;34m\u001b[0m\u001b[0m\n\u001b[1;32m    533\u001b[0m \u001b[0;34m\u001b[0m\u001b[0m\n",
      "\u001b[0;31mValueError\u001b[0m: invalid literal for float(): 10:30:00"
     ]
    }
   ],
   "source": [
    "#Step 3 Train the model\n",
    "model.fit(\n",
    "    X_train,\n",
    "    y_train,\n",
    "    batch_size=100,\n",
    "    nb_epoch=250,\n",
    "    validation_split=0.05)"
   ]
  },
  {
   "cell_type": "code",
   "execution_count": 98,
   "metadata": {
    "collapsed": false,
    "deletable": true,
    "editable": true
   },
   "outputs": [
    {
     "name": "stdout",
     "output_type": "stream",
     "text": [
      "0.00392661828615\n",
      "Train Score: 0.00 MSE (0.06 RMSE)\n",
      "Test Score: 0.00 MSE (0.02 RMSE)\n"
     ]
    }
   ],
   "source": [
    "trainScore = model.evaluate(X_train, y_train, verbose=0)\n",
    "print(trainScore)\n",
    "print('Train Score: %.2f MSE (%.2f RMSE)' % (trainScore, math.sqrt(trainScore)))\n",
    "\n",
    "testScore = model.evaluate(X_test, y_test, verbose=0)\n",
    "print('Test Score: %.2f MSE (%.2f RMSE)' % (testScore, math.sqrt(testScore)))"
   ]
  },
  {
   "cell_type": "code",
   "execution_count": 99,
   "metadata": {
    "collapsed": false,
    "deletable": true,
    "editable": true
   },
   "outputs": [],
   "source": [
    "# print(X_test[-1])\n",
    "diff=[]\n",
    "ratio=[]\n",
    "p = model.predict(X_test)\n",
    "for u in range(len(y_test)):\n",
    "    pr = p[u][0]\n",
    "    ratio.append((y_test[u]/pr)-1)\n",
    "    diff.append(abs(y_test[u]- pr))"
   ]
  },
  {
   "cell_type": "code",
   "execution_count": 100,
   "metadata": {
    "collapsed": false,
    "deletable": true,
    "editable": true
   },
   "outputs": [
    {
     "name": "stdout",
     "output_type": "stream",
     "text": [
      "[ 9.04  9.06  9.07  9.06  9.09  9.07  9.09  9.06  9.09  9.12  9.14  9.13\n",
      "  9.11  9.08  9.05  9.07  9.08  9.09  9.08  9.04  8.99  9.01  9.02  9.02\n",
      "  9.07  9.04  9.06  9.11  9.1   9.11  9.08  9.12  9.12  9.08  9.12  9.12\n",
      "  9.13  9.16  9.19  9.24  9.17  9.18  9.15  9.14  9.13  9.12  9.14  9.09\n",
      "  9.07  9.04  9.08  9.08  9.1   9.07  9.02  9.02  9.01  9.    9.02  9.02\n",
      "  9.03  9.02  9.02  9.02  9.05  9.1   9.06  9.03  9.05  9.04  9.02  9.01\n",
      "  9.04  9.1   9.07  9.05  9.03  9.09  9.1 ]\n"
     ]
    }
   ],
   "source": [
    "print(y_test*(max_data[\"Close\"] - min_data[\"Close\"]))"
   ]
  },
  {
   "cell_type": "code",
   "execution_count": 101,
   "metadata": {
    "collapsed": false,
    "deletable": true,
    "editable": true
   },
   "outputs": [
    {
     "data": {
      "image/png": "[encoded data removed]",
      "text/plain": [
       "<matplotlib.figure.Figure at 0x1217ed4d0>"
      ]
     },
     "metadata": {},
     "output_type": "display_data"
    }
   ],
   "source": [
    "import matplotlib.pyplot as plt2\n",
    "plt2.plot(p*(max_data[\"Close\"] - min_data[\"Close\"]),color='red', label='prediction')\n",
    "plt2.plot(y_test*(max_data[\"Close\"] - min_data[\"Close\"]),color='blue', label='y_test')\n",
    "plt2.legend(loc='upper left')\n",
    "plt2.show()"
   ]
  },
  {
   "cell_type": "code",
   "execution_count": null,
   "metadata": {
    "collapsed": true,
    "deletable": true,
    "editable": true
   },
   "outputs": [],
   "source": []
  }
 ],
 "metadata": {
  "kernelspec": {
   "display_name": "Python 2",
   "language": "python",
   "name": "python2"
  },
  "language_info": {
   "codemirror_mode": {
    "name": "ipython",
    "version": 2
   },
   "file_extension": ".py",
   "mimetype": "text/x-python",
   "name": "python",
   "nbconvert_exporter": "python",
   "pygments_lexer": "ipython2",
   "version": "2.7.10"
  }
 },
 "nbformat": 4,
 "nbformat_minor": 2
}
